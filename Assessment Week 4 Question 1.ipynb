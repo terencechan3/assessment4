{
 "cells": [
  {
   "cell_type": "code",
   "execution_count": 1,
   "id": "ab944550",
   "metadata": {},
   "outputs": [
    {
     "name": "stdout",
     "output_type": "stream",
     "text": [
      "<Response [200]>\n"
     ]
    }
   ],
   "source": [
    "import re\n",
    "import requests\n",
    "import json\n",
    "import pprint\n",
    "\n",
    "url = \"https://openapi.westkowloon.hk/datagovhk/carpark\"\n",
    "\n",
    "res= requests.get(url)\n",
    "\n",
    "print(res)"
   ]
  },
  {
   "cell_type": "code",
   "execution_count": 2,
   "id": "d09ea303",
   "metadata": {},
   "outputs": [
    {
     "data": {
      "text/plain": [
       "{'carParks': [{'id': 'CP001',\n",
       "   'td_eParking_id': 'tdc17p1',\n",
       "   'name': {'en': 'Xiqu Centre Car Park, West Kowloon Cultural District',\n",
       "    'tc': '西九文化區戲曲中心停車場',\n",
       "    'sc': '西九文化区戏曲中心停车场'},\n",
       "   'address': {'en': '88 Austin Road West, Tsim Sha Tsui, Kowloon',\n",
       "    'tc': '香港九龍尖沙咀柯士甸道西88號',\n",
       "    'sc': '香港九龙尖沙咀柯士甸道西88号'},\n",
       "   'district': {'en': 'Yau Tsim Mong', 'tc': '油尖旺區', 'sc': '油尖旺区'},\n",
       "   'contactNo': '(852) 2200 0217',\n",
       "   'openingStatus': 'OPEN',\n",
       "   'heightLimit': 'N/A',\n",
       "   'latitude': '22.30235672',\n",
       "   'longitude': '114.1673496',\n",
       "   'remark': {'en': '', 'tc': '', 'sc': ''},\n",
       "   'website': {'en': 'http://www.wkcda.hk',\n",
       "    'tc': 'http://www.wkcda.hk',\n",
       "    'sc': 'http://www.wkcda.hk'},\n",
       "   'hourly_park_weekdays_except_public_holidays': '$28 per hour',\n",
       "   'hourly_park_Sat_Sun_and_public_holidays': '$32 per hour',\n",
       "   'day_park': 'NA',\n",
       "   'day_park_8:00am_6:00pm': 'NA',\n",
       "   'opening_hours': '24-hours',\n",
       "   'vacancies': [{'vehicleType': 'P',\n",
       "     'monthly': 0,\n",
       "     'hourly': 47,\n",
       "     'timestamp': '15/09/2022 11:20:17.000000'},\n",
       "    {'vehicleType': 'M',\n",
       "     'monthly': 0,\n",
       "     'hourly': 47,\n",
       "     'timestamp': '15/09/2022 11:20:17.000000'},\n",
       "    {'vehicleType': 'L',\n",
       "     'monthly': 0,\n",
       "     'hourly': 47,\n",
       "     'timestamp': '15/09/2022 11:20:17.000000'}],\n",
       "   'timestamp': '2022-10-19T19:11:33+800'},\n",
       "  {'id': 'CP002',\n",
       "   'td_eParking_id': 'tdc17p2',\n",
       "   'name': {'en': 'Art Park (Zone E) Car Park, West Kowloon Cultural District',\n",
       "    'tc': '西九藝術公園(E區)停車場',\n",
       "    'sc': '西九艺术公园(E区)停车场'},\n",
       "   'address': {'en': 'West Kowloon Cultural District, No.36 Museum Drive, Kowloon, Hong Kong',\n",
       "    'tc': '香港九龍西九文化區博物館道36號',\n",
       "    'sc': '香港九龙西九文化区博物馆道36号'},\n",
       "   'district': {'en': 'Yau Tsim Mong', 'tc': '油尖旺區', 'sc': '油尖旺区'},\n",
       "   'contactNo': '(852) 2200 0217',\n",
       "   'openingStatus': 'OPEN',\n",
       "   'heightLimit': 2.1,\n",
       "   'latitude': '22.30137257',\n",
       "   'longitude': '114.1583411',\n",
       "   'remark': {'en': '', 'tc': '', 'sc': ''},\n",
       "   'website': {'en': 'http://www.wkcda.hk',\n",
       "    'tc': 'http://www.wkcda.hk',\n",
       "    'sc': 'http://www.wkcda.hk'},\n",
       "   'hourly_park_weekdays_except_public_holidays': '$28 per hour',\n",
       "   'hourly_park_Sat_Sun_and_public_holidays': '$32 per hour',\n",
       "   'day_park': 'NA',\n",
       "   'day_park_8:00am_6:00pm': 'NA',\n",
       "   'opening_hours': '24-hours',\n",
       "   'vacancies': [{'vehicleType': 'P',\n",
       "     'hourly': 159,\n",
       "     'timestamp': '19/10/2022 19:11:55.000000'},\n",
       "    {'vehicleType': 'M',\n",
       "     'hourly': 0,\n",
       "     'timestamp': '19/10/2022 19:11:55.000000'}],\n",
       "   'timestamp': '2022-10-19T19:11:33+800'},\n",
       "  {'id': 'CP003',\n",
       "   'td_eParking_id': 'tdc52p1',\n",
       "   'name': {'en': 'Zone F Car Park, West Kowloon Cultural District',\n",
       "    'tc': '西九文化區F區停車場',\n",
       "    'sc': '西九文化区F区停车场'},\n",
       "   'address': {'en': 'West Kowloon Cultural District, No.38 Museum Drive, Kowloon, Hong Kong',\n",
       "    'tc': '香港九龍西九文化區博物館道38號',\n",
       "    'sc': '香港九龙西九文化区博物馆道38号'},\n",
       "   'district': {'en': 'Yau Tsim Mong', 'tc': '油尖旺區', 'sc': '油尖旺区'},\n",
       "   'contactNo': '(852) 2200 0217',\n",
       "   'openingStatus': 'OPEN',\n",
       "   'heightLimit': 2.1,\n",
       "   'latitude': '22.30137257',\n",
       "   'longitude': '114.1583411',\n",
       "   'remark': {'en': '', 'tc': '', 'sc': ''},\n",
       "   'website': {'en': 'http://www.wkcda.hk',\n",
       "    'tc': 'http://www.wkcda.hk',\n",
       "    'sc': 'http://www.wkcda.hk'},\n",
       "   'hourly_park_weekdays_except_public_holidays': '$28 per hour',\n",
       "   'hourly_park_Sat_Sun_and_public_holidays': '$32 per hour',\n",
       "   'day_park': 'NA',\n",
       "   'day_park_8:00am_6:00pm': 'NA',\n",
       "   'opening_hours': '24-hours  (Entry Time: 8:00am - 10:00pm)',\n",
       "   'vacancies': [{'vehicleType': 'P',\n",
       "     'hourly': 101,\n",
       "     'timestamp': '19/10/2022 19:11:55.000000'},\n",
       "    {'vehicleType': 'M',\n",
       "     'hourly': 0,\n",
       "     'timestamp': '19/10/2022 19:11:55.000000'}],\n",
       "   'timestamp': '2022-10-19T19:11:33+800'}]}"
      ]
     },
     "execution_count": 2,
     "metadata": {},
     "output_type": "execute_result"
    }
   ],
   "source": [
    "import json\n",
    "\n",
    "answer = json.loads(res.text)\n",
    "answer"
   ]
  },
  {
   "cell_type": "code",
   "execution_count": 13,
   "id": "094324fd",
   "metadata": {},
   "outputs": [
    {
     "data": {
      "text/plain": [
       "[{'id': 'CP001',\n",
       "  'td_eParking_id': 'tdc17p1',\n",
       "  'name': {'en': 'Xiqu Centre Car Park, West Kowloon Cultural District',\n",
       "   'tc': '西九文化區戲曲中心停車場',\n",
       "   'sc': '西九文化区戏曲中心停车场'},\n",
       "  'address': {'en': '88 Austin Road West, Tsim Sha Tsui, Kowloon',\n",
       "   'tc': '香港九龍尖沙咀柯士甸道西88號',\n",
       "   'sc': '香港九龙尖沙咀柯士甸道西88号'},\n",
       "  'district': {'en': 'Yau Tsim Mong', 'tc': '油尖旺區', 'sc': '油尖旺区'},\n",
       "  'contactNo': '(852) 2200 0217',\n",
       "  'openingStatus': 'OPEN',\n",
       "  'heightLimit': 'N/A',\n",
       "  'latitude': '22.30235672',\n",
       "  'longitude': '114.1673496',\n",
       "  'remark': {'en': '', 'tc': '', 'sc': ''},\n",
       "  'website': {'en': 'http://www.wkcda.hk',\n",
       "   'tc': 'http://www.wkcda.hk',\n",
       "   'sc': 'http://www.wkcda.hk'},\n",
       "  'hourly_park_weekdays_except_public_holidays': '$28 per hour',\n",
       "  'hourly_park_Sat_Sun_and_public_holidays': '$32 per hour',\n",
       "  'day_park': 'NA',\n",
       "  'day_park_8:00am_6:00pm': 'NA',\n",
       "  'opening_hours': '24-hours',\n",
       "  'vacancies': [{'vehicleType': 'P',\n",
       "    'monthly': 0,\n",
       "    'hourly': 47,\n",
       "    'timestamp': '15/09/2022 11:20:17.000000'},\n",
       "   {'vehicleType': 'M',\n",
       "    'monthly': 0,\n",
       "    'hourly': 47,\n",
       "    'timestamp': '15/09/2022 11:20:17.000000'},\n",
       "   {'vehicleType': 'L',\n",
       "    'monthly': 0,\n",
       "    'hourly': 47,\n",
       "    'timestamp': '15/09/2022 11:20:17.000000'}],\n",
       "  'timestamp': '2022-10-19T19:11:33+800'},\n",
       " {'id': 'CP002',\n",
       "  'td_eParking_id': 'tdc17p2',\n",
       "  'name': {'en': 'Art Park (Zone E) Car Park, West Kowloon Cultural District',\n",
       "   'tc': '西九藝術公園(E區)停車場',\n",
       "   'sc': '西九艺术公园(E区)停车场'},\n",
       "  'address': {'en': 'West Kowloon Cultural District, No.36 Museum Drive, Kowloon, Hong Kong',\n",
       "   'tc': '香港九龍西九文化區博物館道36號',\n",
       "   'sc': '香港九龙西九文化区博物馆道36号'},\n",
       "  'district': {'en': 'Yau Tsim Mong', 'tc': '油尖旺區', 'sc': '油尖旺区'},\n",
       "  'contactNo': '(852) 2200 0217',\n",
       "  'openingStatus': 'OPEN',\n",
       "  'heightLimit': 2.1,\n",
       "  'latitude': '22.30137257',\n",
       "  'longitude': '114.1583411',\n",
       "  'remark': {'en': '', 'tc': '', 'sc': ''},\n",
       "  'website': {'en': 'http://www.wkcda.hk',\n",
       "   'tc': 'http://www.wkcda.hk',\n",
       "   'sc': 'http://www.wkcda.hk'},\n",
       "  'hourly_park_weekdays_except_public_holidays': '$28 per hour',\n",
       "  'hourly_park_Sat_Sun_and_public_holidays': '$32 per hour',\n",
       "  'day_park': 'NA',\n",
       "  'day_park_8:00am_6:00pm': 'NA',\n",
       "  'opening_hours': '24-hours',\n",
       "  'vacancies': [{'vehicleType': 'P',\n",
       "    'hourly': 159,\n",
       "    'timestamp': '19/10/2022 19:11:55.000000'},\n",
       "   {'vehicleType': 'M',\n",
       "    'hourly': 0,\n",
       "    'timestamp': '19/10/2022 19:11:55.000000'}],\n",
       "  'timestamp': '2022-10-19T19:11:33+800'},\n",
       " {'id': 'CP003',\n",
       "  'td_eParking_id': 'tdc52p1',\n",
       "  'name': {'en': 'Zone F Car Park, West Kowloon Cultural District',\n",
       "   'tc': '西九文化區F區停車場',\n",
       "   'sc': '西九文化区F区停车场'},\n",
       "  'address': {'en': 'West Kowloon Cultural District, No.38 Museum Drive, Kowloon, Hong Kong',\n",
       "   'tc': '香港九龍西九文化區博物館道38號',\n",
       "   'sc': '香港九龙西九文化区博物馆道38号'},\n",
       "  'district': {'en': 'Yau Tsim Mong', 'tc': '油尖旺區', 'sc': '油尖旺区'},\n",
       "  'contactNo': '(852) 2200 0217',\n",
       "  'openingStatus': 'OPEN',\n",
       "  'heightLimit': 2.1,\n",
       "  'latitude': '22.30137257',\n",
       "  'longitude': '114.1583411',\n",
       "  'remark': {'en': '', 'tc': '', 'sc': ''},\n",
       "  'website': {'en': 'http://www.wkcda.hk',\n",
       "   'tc': 'http://www.wkcda.hk',\n",
       "   'sc': 'http://www.wkcda.hk'},\n",
       "  'hourly_park_weekdays_except_public_holidays': '$28 per hour',\n",
       "  'hourly_park_Sat_Sun_and_public_holidays': '$32 per hour',\n",
       "  'day_park': 'NA',\n",
       "  'day_park_8:00am_6:00pm': 'NA',\n",
       "  'opening_hours': '24-hours  (Entry Time: 8:00am - 10:00pm)',\n",
       "  'vacancies': [{'vehicleType': 'P',\n",
       "    'hourly': 101,\n",
       "    'timestamp': '19/10/2022 19:11:55.000000'},\n",
       "   {'vehicleType': 'M',\n",
       "    'hourly': 0,\n",
       "    'timestamp': '19/10/2022 19:11:55.000000'}],\n",
       "  'timestamp': '2022-10-19T19:11:33+800'}]"
      ]
     },
     "execution_count": 13,
     "metadata": {},
     "output_type": "execute_result"
    }
   ],
   "source": [
    "list_dict=answer['carParks']\n",
    "list_dict"
   ]
  },
  {
   "cell_type": "code",
   "execution_count": 23,
   "id": "9583aa90",
   "metadata": {},
   "outputs": [],
   "source": [
    "d = {'name':[item['name']for item in list_dict],\n",
    "    'heightLimit': [item['heightLimit']for item in list_dict]}"
   ]
  },
  {
   "cell_type": "code",
   "execution_count": 24,
   "id": "994f42c3",
   "metadata": {},
   "outputs": [
    {
     "data": {
      "text/plain": [
       "{'name': [{'en': 'Xiqu Centre Car Park, West Kowloon Cultural District',\n",
       "   'tc': '西九文化區戲曲中心停車場',\n",
       "   'sc': '西九文化区戏曲中心停车场'},\n",
       "  {'en': 'Art Park (Zone E) Car Park, West Kowloon Cultural District',\n",
       "   'tc': '西九藝術公園(E區)停車場',\n",
       "   'sc': '西九艺术公园(E区)停车场'},\n",
       "  {'en': 'Zone F Car Park, West Kowloon Cultural District',\n",
       "   'tc': '西九文化區F區停車場',\n",
       "   'sc': '西九文化区F区停车场'}],\n",
       " 'heightLimit': ['N/A', 2.1, 2.1]}"
      ]
     },
     "execution_count": 24,
     "metadata": {},
     "output_type": "execute_result"
    }
   ],
   "source": [
    "d"
   ]
  },
  {
   "cell_type": "code",
   "execution_count": 25,
   "id": "65117265",
   "metadata": {},
   "outputs": [
    {
     "data": {
      "text/html": [
       "<div>\n",
       "<style scoped>\n",
       "    .dataframe tbody tr th:only-of-type {\n",
       "        vertical-align: middle;\n",
       "    }\n",
       "\n",
       "    .dataframe tbody tr th {\n",
       "        vertical-align: top;\n",
       "    }\n",
       "\n",
       "    .dataframe thead th {\n",
       "        text-align: right;\n",
       "    }\n",
       "</style>\n",
       "<table border=\"1\" class=\"dataframe\">\n",
       "  <thead>\n",
       "    <tr style=\"text-align: right;\">\n",
       "      <th></th>\n",
       "      <th>name</th>\n",
       "      <th>heightLimit</th>\n",
       "    </tr>\n",
       "  </thead>\n",
       "  <tbody>\n",
       "    <tr>\n",
       "      <th>0</th>\n",
       "      <td>{'en': 'Xiqu Centre Car Park, West Kowloon Cul...</td>\n",
       "      <td>N/A</td>\n",
       "    </tr>\n",
       "    <tr>\n",
       "      <th>1</th>\n",
       "      <td>{'en': 'Art Park (Zone E) Car Park, West Kowlo...</td>\n",
       "      <td>2.1</td>\n",
       "    </tr>\n",
       "    <tr>\n",
       "      <th>2</th>\n",
       "      <td>{'en': 'Zone F Car Park, West Kowloon Cultural...</td>\n",
       "      <td>2.1</td>\n",
       "    </tr>\n",
       "  </tbody>\n",
       "</table>\n",
       "</div>"
      ],
      "text/plain": [
       "                                                name heightLimit\n",
       "0  {'en': 'Xiqu Centre Car Park, West Kowloon Cul...         N/A\n",
       "1  {'en': 'Art Park (Zone E) Car Park, West Kowlo...         2.1\n",
       "2  {'en': 'Zone F Car Park, West Kowloon Cultural...         2.1"
      ]
     },
     "execution_count": 25,
     "metadata": {},
     "output_type": "execute_result"
    }
   ],
   "source": [
    "import pandas as pd\n",
    "CarPark=pd.DataFrame(d)\n",
    "CarPark"
   ]
  },
  {
   "cell_type": "code",
   "execution_count": 26,
   "id": "4353aa64",
   "metadata": {},
   "outputs": [
    {
     "name": "stdout",
     "output_type": "stream",
     "text": [
      "<class 'pandas.core.frame.DataFrame'>\n",
      "RangeIndex: 3 entries, 0 to 2\n",
      "Data columns (total 2 columns):\n",
      " #   Column       Non-Null Count  Dtype \n",
      "---  ------       --------------  ----- \n",
      " 0   name         3 non-null      object\n",
      " 1   heightLimit  3 non-null      object\n",
      "dtypes: object(2)\n",
      "memory usage: 176.0+ bytes\n"
     ]
    }
   ],
   "source": [
    "CarPark.info()"
   ]
  },
  {
   "cell_type": "code",
   "execution_count": null,
   "id": "f9bad3d6",
   "metadata": {},
   "outputs": [],
   "source": []
  }
 ],
 "metadata": {
  "kernelspec": {
   "display_name": "Python 3 (ipykernel)",
   "language": "python",
   "name": "python3"
  },
  "language_info": {
   "codemirror_mode": {
    "name": "ipython",
    "version": 3
   },
   "file_extension": ".py",
   "mimetype": "text/x-python",
   "name": "python",
   "nbconvert_exporter": "python",
   "pygments_lexer": "ipython3",
   "version": "3.9.12"
  }
 },
 "nbformat": 4,
 "nbformat_minor": 5
}
