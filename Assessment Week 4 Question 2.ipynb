{
 "cells": [
  {
   "cell_type": "code",
   "execution_count": 2,
   "id": "62f97afb",
   "metadata": {},
   "outputs": [],
   "source": [
    "import requests\n",
    "from bs4 import BeautifulSoup\n",
    "import pandas as pd\n",
    "import os"
   ]
  },
  {
   "cell_type": "code",
   "execution_count": 3,
   "id": "3c2eeb12",
   "metadata": {},
   "outputs": [],
   "source": [
    "def get_doc(url):\n",
    "    response = requests.get(url)\n",
    "    doc = BeautifulSoup(response.text,'html.parser')\n",
    "    if response.status_code != 200:\n",
    "        raise Exception('Failed to load page {}'.format(response))\n",
    "    return doc"
   ]
  },
  {
   "cell_type": "code",
   "execution_count": 11,
   "id": "7d966894",
   "metadata": {},
   "outputs": [],
   "source": [
    "def get_book_price(doc):\n",
    "    Book_price_tags = doc.find_all('p', class_ = 'price_color')\n",
    "    Book_price = []\n",
    "    for tags in Book_price_tags:\n",
    "        Book_price.append(tags.text.replace('Â',''))\n",
    "    return Book_price"
   ]
  },
  {
   "cell_type": "code",
   "execution_count": 29,
   "id": "5ca5943b",
   "metadata": {},
   "outputs": [],
   "source": [
    "def scrape_multiple_pages(n):\n",
    "    URL = 'https://books.toscrape.com/catalogue/page-'\n",
    "    titles,prices,stocks_availability,urls = [],[],[],[]\n",
    "    \n",
    "    for page in range(1,n+1):\n",
    "        doc = get_doc(URL + str(page)+ '.html')\n",
    "        prices.extend(get_book_price(doc))\n",
    "        \n",
    "    book_dict1 = {\n",
    "                'PRICE':prices,}\n",
    "    return pd.DataFrame(book_dict1)"
   ]
  },
  {
   "cell_type": "code",
   "execution_count": 30,
   "id": "29461c7d",
   "metadata": {},
   "outputs": [],
   "source": [
    "df= scrape_multiple_pages(3)"
   ]
  },
  {
   "cell_type": "code",
   "execution_count": 33,
   "id": "6309a0b2",
   "metadata": {},
   "outputs": [
    {
     "name": "stdout",
     "output_type": "stream",
     "text": [
      "     PRICE\n",
      "0   £51.77\n",
      "1   £53.74\n",
      "2   £50.10\n",
      "3   £47.82\n",
      "4   £54.23\n",
      "5   £22.65\n",
      "6   £33.34\n",
      "7   £17.93\n",
      "8   £22.60\n",
      "9   £52.15\n",
      "10  £13.99\n",
      "11  £20.66\n",
      "12  £17.46\n",
      "13  £52.29\n",
      "14  £35.02\n",
      "15  £57.25\n",
      "16  £23.88\n",
      "17  £37.59\n",
      "18  £51.33\n",
      "19  £45.17\n",
      "20  £12.84\n",
      "21  £37.32\n",
      "22  £30.52\n",
      "23  £25.27\n",
      "24  £34.53\n",
      "25  £54.64\n",
      "26  £22.50\n",
      "27  £53.13\n",
      "28  £40.30\n",
      "29  £44.18\n",
      "30  £17.66\n",
      "31  £31.05\n",
      "32  £23.82\n",
      "33  £36.89\n",
      "34  £15.94\n",
      "35  £33.29\n",
      "36  £18.02\n",
      "37  £19.63\n",
      "38  £52.22\n",
      "39  £33.63\n",
      "40  £57.31\n",
      "41  £26.41\n",
      "42  £47.61\n",
      "43  £23.11\n",
      "44  £45.07\n",
      "45  £31.77\n",
      "46  £50.27\n",
      "47  £14.27\n",
      "48  £44.18\n",
      "49  £18.78\n",
      "50  £25.52\n",
      "51  £16.28\n",
      "52  £31.12\n",
      "53  £19.49\n",
      "54  £17.27\n",
      "55  £19.09\n",
      "56  £56.13\n",
      "57  £56.41\n",
      "58  £56.50\n",
      "59  £45.22\n"
     ]
    }
   ],
   "source": [
    "print(df)"
   ]
  },
  {
   "cell_type": "code",
   "execution_count": null,
   "id": "d8f280be",
   "metadata": {},
   "outputs": [],
   "source": []
  }
 ],
 "metadata": {
  "kernelspec": {
   "display_name": "Python 3 (ipykernel)",
   "language": "python",
   "name": "python3"
  },
  "language_info": {
   "codemirror_mode": {
    "name": "ipython",
    "version": 3
   },
   "file_extension": ".py",
   "mimetype": "text/x-python",
   "name": "python",
   "nbconvert_exporter": "python",
   "pygments_lexer": "ipython3",
   "version": "3.9.12"
  }
 },
 "nbformat": 4,
 "nbformat_minor": 5
}
